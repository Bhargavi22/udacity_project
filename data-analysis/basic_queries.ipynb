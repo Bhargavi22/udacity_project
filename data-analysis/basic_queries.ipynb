{
 "cells": [
  {
   "cell_type": "markdown",
   "metadata": {},
   "source": [
    "## Creating connection to Redshift"
   ]
  },
  {
   "cell_type": "code",
   "execution_count": 78,
   "metadata": {},
   "outputs": [
    {
     "name": "stdout",
     "output_type": "stream",
     "text": [
      "Creating connection to Redshift\n",
      "Connection created\n"
     ]
    }
   ],
   "source": [
    "import os\n",
    "import sys\n",
    "import psycopg2\n",
    "import pandas as pd\n",
    "from time import time\n",
    "\n",
    "working_dir = os.getcwd()\n",
    "\n",
    "connection_info_path = os.path.dirname(working_dir) + '/plugins/helpers/'\n",
    "\n",
    "sys.path.append(connection_info_path)\n",
    "\n",
    "import connection_info\n",
    "\n",
    "print(\"Creating connection to Redshift\")\n",
    "redshift_credentials = next(item for item in connection_info.ConnectionInfo['connections']\\\n",
    "                          if item[\"conn_id\"] == \"redshift\")\n",
    "conn = psycopg2.connect(\"host={} dbname={} user={} password={} port={}\"\n",
    "                            .format(redshift_credentials['host'], redshift_credentials['schema'],\n",
    "                                    redshift_credentials['login'], redshift_credentials['password'],\n",
    "                                    redshift_credentials['port']))\n",
    "cursor = conn.cursor()\n",
    "print(\"Connection created\")"
   ]
  },
  {
   "cell_type": "markdown",
   "metadata": {},
   "source": [
    "## Getting table names and count of records"
   ]
  },
  {
   "cell_type": "code",
   "execution_count": 79,
   "metadata": {},
   "outputs": [
    {
     "data": {
      "text/html": [
       "<div>\n",
       "<style scoped>\n",
       "    .dataframe tbody tr th:only-of-type {\n",
       "        vertical-align: middle;\n",
       "    }\n",
       "\n",
       "    .dataframe tbody tr th {\n",
       "        vertical-align: top;\n",
       "    }\n",
       "\n",
       "    .dataframe thead th {\n",
       "        text-align: right;\n",
       "    }\n",
       "</style>\n",
       "<table border=\"1\" class=\"dataframe\">\n",
       "  <thead>\n",
       "    <tr style=\"text-align: right;\">\n",
       "      <th></th>\n",
       "      <th>Table_name</th>\n",
       "      <th>Count_of_records</th>\n",
       "    </tr>\n",
       "  </thead>\n",
       "  <tbody>\n",
       "    <tr>\n",
       "      <th>0</th>\n",
       "      <td>covid_data_non_us</td>\n",
       "      <td>148757</td>\n",
       "    </tr>\n",
       "    <tr>\n",
       "      <th>1</th>\n",
       "      <td>covid_data_us</td>\n",
       "      <td>791811</td>\n",
       "    </tr>\n",
       "    <tr>\n",
       "      <th>2</th>\n",
       "      <td>google_mobility_data_non_us</td>\n",
       "      <td>2008372</td>\n",
       "    </tr>\n",
       "    <tr>\n",
       "      <th>3</th>\n",
       "      <td>google_mobility_data_us</td>\n",
       "      <td>723326</td>\n",
       "    </tr>\n",
       "    <tr>\n",
       "      <th>4</th>\n",
       "      <td>location_lookup</td>\n",
       "      <td>12540</td>\n",
       "    </tr>\n",
       "  </tbody>\n",
       "</table>\n",
       "</div>"
      ],
      "text/plain": [
       "                    Table_name  Count_of_records\n",
       "0            covid_data_non_us            148757\n",
       "1                covid_data_us            791811\n",
       "2  google_mobility_data_non_us           2008372\n",
       "3      google_mobility_data_us            723326\n",
       "4              location_lookup             12540"
      ]
     },
     "execution_count": 79,
     "metadata": {},
     "output_type": "execute_result"
    }
   ],
   "source": [
    "query  = \"\"\"\n",
    "select distinct t.table_name\n",
    "from information_schema.tables t\n",
    "where t.table_schema = 'public'\n",
    "      and t.table_type = 'BASE TABLE'\n",
    "order by t.table_name;\n",
    "\"\"\"\n",
    "cursor.execute(query)\n",
    "table_names = cursor.fetchall()\n",
    "table_name_with_count = []\n",
    "for table in table_names:\n",
    "    query = f\"select count(*) from public.{table[0]}\"\n",
    "    cursor.execute(query)\n",
    "    row = cursor.fetchall()\n",
    "    table_name_with_count.append([table[0], row[0][0]])\n",
    "    \n",
    "df = pd.DataFrame(table_name_with_count, columns = ['Table_name','Count_of_records']) \n",
    "df"
   ]
  },
  {
   "cell_type": "code",
   "execution_count": 80,
   "metadata": {},
   "outputs": [
    {
     "data": {
      "text/html": [
       "<div>\n",
       "<style scoped>\n",
       "    .dataframe tbody tr th:only-of-type {\n",
       "        vertical-align: middle;\n",
       "    }\n",
       "\n",
       "    .dataframe tbody tr th {\n",
       "        vertical-align: top;\n",
       "    }\n",
       "\n",
       "    .dataframe thead th {\n",
       "        text-align: right;\n",
       "    }\n",
       "</style>\n",
       "<table border=\"1\" class=\"dataframe\">\n",
       "  <thead>\n",
       "    <tr style=\"text-align: right;\">\n",
       "      <th></th>\n",
       "      <th>Table_name</th>\n",
       "      <th>Count_Of_Distinct_primary_key</th>\n",
       "    </tr>\n",
       "  </thead>\n",
       "  <tbody>\n",
       "    <tr>\n",
       "      <th>0</th>\n",
       "      <td>covid_data_non_us</td>\n",
       "      <td>148757</td>\n",
       "    </tr>\n",
       "    <tr>\n",
       "      <th>1</th>\n",
       "      <td>covid_data_us</td>\n",
       "      <td>791811</td>\n",
       "    </tr>\n",
       "    <tr>\n",
       "      <th>2</th>\n",
       "      <td>google_mobility_data_non_us</td>\n",
       "      <td>2008372</td>\n",
       "    </tr>\n",
       "    <tr>\n",
       "      <th>3</th>\n",
       "      <td>google_mobility_data_us</td>\n",
       "      <td>723326</td>\n",
       "    </tr>\n",
       "    <tr>\n",
       "      <th>4</th>\n",
       "      <td>location_lookup</td>\n",
       "      <td>12540</td>\n",
       "    </tr>\n",
       "  </tbody>\n",
       "</table>\n",
       "</div>"
      ],
      "text/plain": [
       "                    Table_name  Count_Of_Distinct_primary_key\n",
       "0            covid_data_non_us                         148757\n",
       "1                covid_data_us                         791811\n",
       "2  google_mobility_data_non_us                        2008372\n",
       "3      google_mobility_data_us                         723326\n",
       "4              location_lookup                          12540"
      ]
     },
     "execution_count": 80,
     "metadata": {},
     "output_type": "execute_result"
    }
   ],
   "source": [
    "## Getting count of distinct locations for which we have covid data and google mobility data\n",
    "\n",
    "\n",
    "table_name_with_count = []\n",
    "for table_name in table_names:\n",
    "    if table_name[0] != 'location_lookup':\n",
    "        query  = f\"\"\"\n",
    "                    select count(distinct location_identifier||file_date)\n",
    "                    from {table_name[0]}\n",
    "                 \"\"\"\n",
    "    else:\n",
    "        query  = f\"\"\"\n",
    "                    select count(distinct location_identifier)\n",
    "                    from {table_name[0]}\n",
    "                 \"\"\"        \n",
    "    cursor.execute(query)\n",
    "    row = cursor.fetchall()\n",
    "    table_name_with_count.append([table_name[0], row[0][0]])\n",
    "    \n",
    "df = pd.DataFrame(table_name_with_count, columns = ['Table_name','Count_Of_Distinct_primary_key']) \n",
    "df"
   ]
  },
  {
   "cell_type": "markdown",
   "metadata": {},
   "source": [
    "## Getting the most recent date of data availability"
   ]
  },
  {
   "cell_type": "code",
   "execution_count": 81,
   "metadata": {},
   "outputs": [
    {
     "name": "stdout",
     "output_type": "stream",
     "text": [
      "Table_name: max(file_date)\n",
      "covid_data_non_us : 2020-11-29\n",
      "covid_data_us : 2020-11-29\n",
      "google_mobility_data_non_us : 2020-11-27\n",
      "google_mobility_data_us : 2020-11-27\n"
     ]
    }
   ],
   "source": [
    "print(f\"Table_name: max(file_date)\")\n",
    "for table in table_names:\n",
    "    if table[0] != 'location_lookup':\n",
    "        query = f\"\"\"select max(file_date) from public.{table[0]}\"\"\"\n",
    "        cursor.execute(query)\n",
    "        row = cursor.fetchall()\n",
    "        print(f\"{table[0]} : {row[0][0]}\")"
   ]
  },
  {
   "cell_type": "markdown",
   "metadata": {},
   "source": [
    "## Getting countries with max number of covid confirmed cases "
   ]
  },
  {
   "cell_type": "code",
   "execution_count": 82,
   "metadata": {},
   "outputs": [
    {
     "data": {
      "text/html": [
       "<div>\n",
       "<style scoped>\n",
       "    .dataframe tbody tr th:only-of-type {\n",
       "        vertical-align: middle;\n",
       "    }\n",
       "\n",
       "    .dataframe tbody tr th {\n",
       "        vertical-align: top;\n",
       "    }\n",
       "\n",
       "    .dataframe thead th {\n",
       "        text-align: right;\n",
       "    }\n",
       "</style>\n",
       "<table border=\"1\" class=\"dataframe\">\n",
       "  <thead>\n",
       "    <tr style=\"text-align: right;\">\n",
       "      <th></th>\n",
       "      <th>Country</th>\n",
       "      <th>total_cases</th>\n",
       "    </tr>\n",
       "  </thead>\n",
       "  <tbody>\n",
       "    <tr>\n",
       "      <th>0</th>\n",
       "      <td>France</td>\n",
       "      <td>2217555</td>\n",
       "    </tr>\n",
       "    <tr>\n",
       "      <th>1</th>\n",
       "      <td>Argentina</td>\n",
       "      <td>1418807</td>\n",
       "    </tr>\n",
       "    <tr>\n",
       "      <th>2</th>\n",
       "      <td>Poland</td>\n",
       "      <td>985075</td>\n",
       "    </tr>\n",
       "    <tr>\n",
       "      <th>3</th>\n",
       "      <td>Iran</td>\n",
       "      <td>948749</td>\n",
       "    </tr>\n",
       "    <tr>\n",
       "      <th>4</th>\n",
       "      <td>South Africa</td>\n",
       "      <td>787702</td>\n",
       "    </tr>\n",
       "  </tbody>\n",
       "</table>\n",
       "</div>"
      ],
      "text/plain": [
       "        Country  total_cases\n",
       "0        France      2217555\n",
       "1     Argentina      1418807\n",
       "2        Poland       985075\n",
       "3          Iran       948749\n",
       "4  South Africa       787702"
      ]
     },
     "execution_count": 82,
     "metadata": {},
     "output_type": "execute_result"
    }
   ],
   "source": [
    "query = \"\"\"select \n",
    "        ll.country_region as Country,\n",
    "        sum(new_confirmed_cases) as total_cases\n",
    "from covid_data_non_us cd\n",
    "left join location_lookup ll\n",
    "on ll.location_identifier = cd.location_identifier\n",
    "WHERE cd.location_granularity = 'country'\n",
    "group by ll.country_region\n",
    "order by sum(new_confirmed_cases) desc\n",
    "limit 5\"\"\"\n",
    "cursor.execute(query)\n",
    "\n",
    "rows = cursor.fetchall()\n",
    "\n",
    "df = pd.DataFrame(rows,columns = ['Country','total_cases'])\n",
    "df"
   ]
  },
  {
   "cell_type": "markdown",
   "metadata": {},
   "source": [
    "## Getting US state with max number of covid confirmed cases"
   ]
  },
  {
   "cell_type": "code",
   "execution_count": 83,
   "metadata": {},
   "outputs": [
    {
     "data": {
      "text/html": [
       "<div>\n",
       "<style scoped>\n",
       "    .dataframe tbody tr th:only-of-type {\n",
       "        vertical-align: middle;\n",
       "    }\n",
       "\n",
       "    .dataframe tbody tr th {\n",
       "        vertical-align: top;\n",
       "    }\n",
       "\n",
       "    .dataframe thead th {\n",
       "        text-align: right;\n",
       "    }\n",
       "</style>\n",
       "<table border=\"1\" class=\"dataframe\">\n",
       "  <thead>\n",
       "    <tr style=\"text-align: right;\">\n",
       "      <th></th>\n",
       "      <th>county</th>\n",
       "      <th>state</th>\n",
       "      <th>ttl_confirmed_cases</th>\n",
       "    </tr>\n",
       "  </thead>\n",
       "  <tbody>\n",
       "    <tr>\n",
       "      <th>0</th>\n",
       "      <td>Los Angeles</td>\n",
       "      <td>California</td>\n",
       "      <td>395843</td>\n",
       "    </tr>\n",
       "    <tr>\n",
       "      <th>1</th>\n",
       "      <td>Cook</td>\n",
       "      <td>Illinois</td>\n",
       "      <td>304220</td>\n",
       "    </tr>\n",
       "    <tr>\n",
       "      <th>2</th>\n",
       "      <td>Miami-Dade</td>\n",
       "      <td>Florida</td>\n",
       "      <td>227656</td>\n",
       "    </tr>\n",
       "    <tr>\n",
       "      <th>3</th>\n",
       "      <td>Maricopa</td>\n",
       "      <td>Arizona</td>\n",
       "      <td>205332</td>\n",
       "    </tr>\n",
       "    <tr>\n",
       "      <th>4</th>\n",
       "      <td>Harris</td>\n",
       "      <td>Texas</td>\n",
       "      <td>190631</td>\n",
       "    </tr>\n",
       "    <tr>\n",
       "      <th>5</th>\n",
       "      <td>Dallas</td>\n",
       "      <td>Texas</td>\n",
       "      <td>137096</td>\n",
       "    </tr>\n",
       "    <tr>\n",
       "      <th>6</th>\n",
       "      <td>Clark</td>\n",
       "      <td>Nevada</td>\n",
       "      <td>115190</td>\n",
       "    </tr>\n",
       "    <tr>\n",
       "      <th>7</th>\n",
       "      <td>Broward</td>\n",
       "      <td>Florida</td>\n",
       "      <td>106698</td>\n",
       "    </tr>\n",
       "    <tr>\n",
       "      <th>8</th>\n",
       "      <td>Tarrant</td>\n",
       "      <td>Texas</td>\n",
       "      <td>97294</td>\n",
       "    </tr>\n",
       "    <tr>\n",
       "      <th>9</th>\n",
       "      <td>San Bernardino</td>\n",
       "      <td>California</td>\n",
       "      <td>93019</td>\n",
       "    </tr>\n",
       "  </tbody>\n",
       "</table>\n",
       "</div>"
      ],
      "text/plain": [
       "           county       state  ttl_confirmed_cases\n",
       "0     Los Angeles  California               395843\n",
       "1            Cook    Illinois               304220\n",
       "2      Miami-Dade     Florida               227656\n",
       "3        Maricopa     Arizona               205332\n",
       "4          Harris       Texas               190631\n",
       "5          Dallas       Texas               137096\n",
       "6           Clark      Nevada               115190\n",
       "7         Broward     Florida               106698\n",
       "8         Tarrant       Texas                97294\n",
       "9  San Bernardino  California                93019"
      ]
     },
     "execution_count": 83,
     "metadata": {},
     "output_type": "execute_result"
    }
   ],
   "source": [
    "query = \"\"\"\n",
    "select \n",
    "        ll.county_or_city as county,\n",
    "        ll.province_or_state as state,\n",
    "        sum(new_confirmed_cases) as ttl_confirmed_cases\n",
    "from covid_data_us cd\n",
    "left join location_lookup ll\n",
    "on ll.location_identifier = cd.location_identifier\n",
    "WHERE cd.location_granularity = 'county'\n",
    "group by ll.county_or_city, ll.province_or_state, ll.country_region\n",
    "order by sum(new_confirmed_cases) desc\n",
    "limit 10;\"\"\"\n",
    "\n",
    "cursor.execute(query)\n",
    "\n",
    "rows = cursor.fetchall()\n",
    "\n",
    "df = pd.DataFrame(rows,columns = ['county','state','ttl_confirmed_cases'])\n",
    "df"
   ]
  },
  {
   "cell_type": "code",
   "execution_count": null,
   "metadata": {},
   "outputs": [],
   "source": []
  }
 ],
 "metadata": {
  "kernelspec": {
   "display_name": "Python 3",
   "language": "python",
   "name": "python3"
  },
  "language_info": {
   "codemirror_mode": {
    "name": "ipython",
    "version": 3
   },
   "file_extension": ".py",
   "mimetype": "text/x-python",
   "name": "python",
   "nbconvert_exporter": "python",
   "pygments_lexer": "ipython3",
   "version": "3.7.8"
  }
 },
 "nbformat": 4,
 "nbformat_minor": 4
}
